{
  "nbformat": 4,
  "nbformat_minor": 0,
  "metadata": {
    "colab": {
      "provenance": [],
      "authorship_tag": "ABX9TyMFXWxYqbGS+zk8qQvVtlDG",
      "include_colab_link": true
    },
    "kernelspec": {
      "name": "python3",
      "display_name": "Python 3"
    },
    "language_info": {
      "name": "python"
    }
  },
  "cells": [
    {
      "cell_type": "markdown",
      "metadata": {
        "id": "view-in-github",
        "colab_type": "text"
      },
      "source": [
        "<a href=\"https://colab.research.google.com/github/importantduck/aulaPythonTarde/blob/main/helloWorldPython.ipynb\" target=\"_parent\"><img src=\"https://colab.research.google.com/assets/colab-badge.svg\" alt=\"Open In Colab\"/></a>"
      ]
    },
    {
      "cell_type": "code",
      "execution_count": null,
      "metadata": {
        "id": "kety4W7GO9_n"
      },
      "outputs": [],
      "source": [
        "print(\"Hello World!\")"
      ]
    },
    {
      "cell_type": "code",
      "source": [
        "saudacao = \"Hello World!\"\n",
        "print(\"saudacao\")\n",
        "print(saudacao)\n",
        "\n",
        "# consigo manusear cada caractere da minha string\n",
        "\n",
        "print(saudacao[0]) # imprime a posição, começando em 0 como primeira posição\n",
        "print(saudacao[6])\n",
        "print(saudacao[0:5]) # imprime as posições de 0 até 5\n",
        "print(saudacao[6::]) # imprime as posições a partir de 6 até o final"
      ],
      "metadata": {
        "id": "0pxgR4WtSKSz"
      },
      "execution_count": null,
      "outputs": []
    }
  ]
}